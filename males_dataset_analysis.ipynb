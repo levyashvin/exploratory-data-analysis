{
  "cells": [
    {
      "cell_type": "markdown",
      "metadata": {
        "id": "view-in-github",
        "colab_type": "text"
      },
      "source": [
        "<a href=\"https://colab.research.google.com/github/levyashvin/exploratory-data-analysis/blob/main/males_dataset_analysis.ipynb\" target=\"_parent\"><img src=\"https://colab.research.google.com/assets/colab-badge.svg\" alt=\"Open In Colab\"/></a>"
      ]
    },
    {
      "cell_type": "markdown",
      "source": [
        "22BDS0177 Yuva Yashvin"
      ],
      "metadata": {
        "id": "tepnnzbivZFf"
      },
      "id": "tepnnzbivZFf"
    },
    {
      "cell_type": "markdown",
      "source": [
        "Analysis of Males.csv file using python"
      ],
      "metadata": {
        "id": "tsahrx1k8vzg"
      },
      "id": "tsahrx1k8vzg"
    },
    {
      "cell_type": "markdown",
      "source": [
        "Loading dataset into python"
      ],
      "metadata": {
        "id": "ZTHUi1Ly80jN"
      },
      "id": "ZTHUi1Ly80jN"
    },
    {
      "cell_type": "code",
      "source": [
        "import pandas as pd\n",
        "import numpy as np\n",
        "\n",
        "df = pd.read_csv('https://raw.githubusercontent.com/salemprakash/EDA/main/Data/Males.csv')\n",
        "print(df)"
      ],
      "metadata": {
        "id": "XsIdARMMvYbi",
        "outputId": "5eb813e0-f7d0-40fb-9e64-406cf565f173",
        "colab": {
          "base_uri": "https://localhost:8080/"
        }
      },
      "id": "XsIdARMMvYbi",
      "execution_count": 4,
      "outputs": [
        {
          "output_type": "stream",
          "name": "stdout",
          "text": [
            "      rownames     nr  year  school  exper union   ethn maried health  \\\n",
            "0            1     13  1980      14      1    no  other     no     no   \n",
            "1            2     13  1981      14      2   yes  other     no     no   \n",
            "2            3     13  1982      14      3    no  other     no     no   \n",
            "3            4     13  1983      14      4    no  other     no     no   \n",
            "4            5     13  1984      14      5    no  other     no     no   \n",
            "...        ...    ...   ...     ...    ...   ...    ...    ...    ...   \n",
            "4355      4356  12548  1983       9      8    no  other    yes     no   \n",
            "4356      4357  12548  1984       9      9   yes  other    yes     no   \n",
            "4357      4358  12548  1985       9     10    no  other    yes     no   \n",
            "4358      4359  12548  1986       9     11   yes  other    yes     no   \n",
            "4359      4360  12548  1987       9     12   yes  other    yes     no   \n",
            "\n",
            "          wage                          industry  \\\n",
            "0     1.197540       Business_and_Repair_Service   \n",
            "1     1.853060                  Personal_Service   \n",
            "2     1.344462       Business_and_Repair_Service   \n",
            "3     1.433213       Business_and_Repair_Service   \n",
            "4     1.568125                  Personal_Service   \n",
            "...        ...                               ...   \n",
            "4355  1.591879                      Construction   \n",
            "4356  1.212543                      Construction   \n",
            "4357  1.765962                      Construction   \n",
            "4358  1.745894  Professional_and_Related Service   \n",
            "4359  1.466543             Public_Administration   \n",
            "\n",
            "                          occupation   residence  \n",
            "0                    Service_Workers  north_east  \n",
            "1                    Service_Workers  north_east  \n",
            "2                    Service_Workers  north_east  \n",
            "3                    Service_Workers  north_east  \n",
            "4     Craftsmen, Foremen_and_kindred  north_east  \n",
            "...                              ...         ...  \n",
            "4355  Craftsmen, Foremen_and_kindred         NaN  \n",
            "4356  Craftsmen, Foremen_and_kindred         NaN  \n",
            "4357  Craftsmen, Foremen_and_kindred         NaN  \n",
            "4358  Craftsmen, Foremen_and_kindred         NaN  \n",
            "4359  Craftsmen, Foremen_and_kindred         NaN  \n",
            "\n",
            "[4360 rows x 13 columns]\n"
          ]
        }
      ]
    },
    {
      "cell_type": "markdown",
      "source": [
        "Summary and dimensions analysis"
      ],
      "metadata": {
        "id": "VIt-Ub9z82Fh"
      },
      "id": "VIt-Ub9z82Fh"
    },
    {
      "cell_type": "markdown",
      "source": [],
      "metadata": {
        "id": "jRdIpOXH9vR5"
      },
      "id": "jRdIpOXH9vR5"
    }
  ],
  "metadata": {
    "colab": {
      "provenance": [],
      "include_colab_link": true
    },
    "language_info": {
      "name": "python"
    },
    "kernelspec": {
      "name": "python3",
      "display_name": "Python 3"
    }
  },
  "nbformat": 4,
  "nbformat_minor": 5
}